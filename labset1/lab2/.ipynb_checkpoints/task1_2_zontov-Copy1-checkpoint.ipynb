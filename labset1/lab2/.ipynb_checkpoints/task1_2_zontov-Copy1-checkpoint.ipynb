{
 "cells": [
  {
   "cell_type": "code",
   "execution_count": 2,
   "id": "59a77331",
   "metadata": {},
   "outputs": [
    {
     "name": "stdout",
     "output_type": "stream",
     "text": [
      "3\n",
      "4\n",
      "34\n"
     ]
    }
   ],
   "source": [
    "a = input()\n",
    "b = input()\n",
    "c = a + b\n",
    "print(c)"
   ]
  },
  {
   "cell_type": "code",
   "execution_count": 5,
   "id": "8e970e4f",
   "metadata": {},
   "outputs": [
    {
     "name": "stdout",
     "output_type": "stream",
     "text": [
      "3\n",
      "4\n",
      "7\n"
     ]
    }
   ],
   "source": [
    "a = int(input())\n",
    "b = int(input())\n",
    "c = a + b\n",
    "print(c)"
   ]
  },
  {
   "cell_type": "code",
   "execution_count": 6,
   "id": "1cdbd392",
   "metadata": {},
   "outputs": [
    {
     "name": "stdout",
     "output_type": "stream",
     "text": [
      "3\n",
      "4\n",
      "7\n"
     ]
    }
   ],
   "source": [
    "a = input()\n",
    "b = input()\n",
    "c = int(a) + int(b)\n",
    "print(c)"
   ]
  },
  {
   "cell_type": "code",
   "execution_count": 7,
   "id": "410cc7f6",
   "metadata": {},
   "outputs": [
    {
     "data": {
      "text/plain": [
       "2.0"
      ]
     },
     "execution_count": 7,
     "metadata": {},
     "output_type": "execute_result"
    }
   ],
   "source": [
    "import math\n",
    "math.sqrt(4)"
   ]
  },
  {
   "cell_type": "code",
   "execution_count": 12,
   "id": "dd4d30d9",
   "metadata": {},
   "outputs": [
    {
     "data": {
      "text/plain": [
       "0.0"
      ]
     },
     "execution_count": 12,
     "metadata": {},
     "output_type": "execute_result"
    }
   ],
   "source": [
    "math.sin(0)"
   ]
  },
  {
   "cell_type": "code",
   "execution_count": 15,
   "id": "eeb54831",
   "metadata": {},
   "outputs": [
    {
     "data": {
      "text/plain": [
       "0.0"
      ]
     },
     "execution_count": 15,
     "metadata": {},
     "output_type": "execute_result"
    }
   ],
   "source": [
    "from math import sqrt\n",
    "sqrt(0)"
   ]
  },
  {
   "cell_type": "code",
   "execution_count": 20,
   "id": "9aaba091",
   "metadata": {},
   "outputs": [
    {
     "data": {
      "text/plain": [
       "1.2246467991473532e-16"
      ]
     },
     "execution_count": 20,
     "metadata": {},
     "output_type": "execute_result"
    }
   ],
   "source": [
    "from math import pi\n",
    "sin(pi)"
   ]
  },
  {
   "cell_type": "code",
   "execution_count": 26,
   "id": "27a33819",
   "metadata": {},
   "outputs": [
    {
     "name": "stdout",
     "output_type": "stream",
     "text": [
      "0\n"
     ]
    }
   ],
   "source": [
    "print(\"%.f\" % sin(pi))"
   ]
  },
  {
   "cell_type": "code",
   "execution_count": 27,
   "id": "2eecbb38",
   "metadata": {},
   "outputs": [
    {
     "data": {
      "text/plain": [
       "4"
      ]
     },
     "execution_count": 27,
     "metadata": {},
     "output_type": "execute_result"
    }
   ],
   "source": [
    "x = 4\n",
    "x"
   ]
  },
  {
   "cell_type": "code",
   "execution_count": 28,
   "id": "f7486714",
   "metadata": {},
   "outputs": [
    {
     "data": {
      "text/plain": [
       "6"
      ]
     },
     "execution_count": 28,
     "metadata": {},
     "output_type": "execute_result"
    }
   ],
   "source": [
    "x + 2"
   ]
  },
  {
   "cell_type": "code",
   "execution_count": 40,
   "id": "f8351572",
   "metadata": {},
   "outputs": [
    {
     "data": {
      "text/plain": [
       "6"
      ]
     },
     "execution_count": 40,
     "metadata": {},
     "output_type": "execute_result"
    }
   ],
   "source": [
    "x = 4\n",
    "x + 2\n",
    "x = x + 2\n",
    "x"
   ]
  },
  {
   "cell_type": "code",
   "execution_count": 41,
   "id": "3c95be18",
   "metadata": {},
   "outputs": [
    {
     "name": "stdout",
     "output_type": "stream",
     "text": [
      "Введите ваше имя: Alexander\n",
      "Привет, Alexander\n"
     ]
    }
   ],
   "source": [
    "name = input(\"Введите ваше имя: \")\n",
    "print(\"Привет,\",name)"
   ]
  },
  {
   "cell_type": "code",
   "execution_count": 42,
   "id": "fdadac87",
   "metadata": {},
   "outputs": [
    {
     "data": {
      "text/plain": [
       "'Alexander'"
      ]
     },
     "execution_count": 42,
     "metadata": {},
     "output_type": "execute_result"
    }
   ],
   "source": [
    "name"
   ]
  },
  {
   "cell_type": "code",
   "execution_count": 47,
   "id": "ee565a1c",
   "metadata": {},
   "outputs": [
    {
     "name": "stdout",
     "output_type": "stream",
     "text": [
      "Введите какое-нибудь число: 12\n",
      "1212\n"
     ]
    }
   ],
   "source": [
    "x = input(\"Введите какое-нибудь число: \")\n",
    "print(x * 2)"
   ]
  },
  {
   "cell_type": "code",
   "execution_count": 48,
   "id": "a20d29ed",
   "metadata": {},
   "outputs": [
    {
     "data": {
      "text/plain": [
       "'12'"
      ]
     },
     "execution_count": 48,
     "metadata": {},
     "output_type": "execute_result"
    }
   ],
   "source": [
    "x"
   ]
  },
  {
   "cell_type": "code",
   "execution_count": 49,
   "id": "c3402186",
   "metadata": {},
   "outputs": [
    {
     "data": {
      "text/plain": [
       "12"
      ]
     },
     "execution_count": 49,
     "metadata": {},
     "output_type": "execute_result"
    }
   ],
   "source": [
    "int(x)"
   ]
  },
  {
   "cell_type": "code",
   "execution_count": 52,
   "id": "5eeba898",
   "metadata": {},
   "outputs": [
    {
     "name": "stdout",
     "output_type": "stream",
     "text": [
      "24\n"
     ]
    }
   ],
   "source": [
    "print(int(x) * 2)"
   ]
  },
  {
   "cell_type": "code",
   "execution_count": 54,
   "id": "bc4b4881",
   "metadata": {},
   "outputs": [
    {
     "name": "stdout",
     "output_type": "stream",
     "text": [
      "Введите какое-нибудь число: 12.34\n"
     ]
    },
    {
     "ename": "ValueError",
     "evalue": "invalid literal for int() with base 10: '12.34'",
     "output_type": "error",
     "traceback": [
      "\u001b[0;31m---------------------------------------------------------------------------\u001b[0m",
      "\u001b[0;31mValueError\u001b[0m                                Traceback (most recent call last)",
      "Input \u001b[0;32mIn [54]\u001b[0m, in \u001b[0;36m<cell line: 1>\u001b[0;34m()\u001b[0m\n\u001b[0;32m----> 1\u001b[0m x \u001b[38;5;241m=\u001b[39m \u001b[38;5;28;43mint\u001b[39;49m\u001b[43m(\u001b[49m\u001b[38;5;28;43minput\u001b[39;49m\u001b[43m(\u001b[49m\u001b[38;5;124;43m\"\u001b[39;49m\u001b[38;5;124;43mВведите какое-нибудь число: \u001b[39;49m\u001b[38;5;124;43m\"\u001b[39;49m\u001b[43m)\u001b[49m\u001b[43m)\u001b[49m\n\u001b[1;32m      2\u001b[0m \u001b[38;5;28mprint\u001b[39m(x \u001b[38;5;241m*\u001b[39m \u001b[38;5;241m2\u001b[39m)\n",
      "\u001b[0;31mValueError\u001b[0m: invalid literal for int() with base 10: '12.34'"
     ]
    }
   ],
   "source": [
    "x = int(input(\"Введите какое-нибудь число: \"))\n",
    "print(x * 2)"
   ]
  },
  {
   "cell_type": "code",
   "execution_count": 55,
   "id": "a639346a",
   "metadata": {},
   "outputs": [
    {
     "name": "stdout",
     "output_type": "stream",
     "text": [
      "Введите какое-нибудь число: 12.34\n",
      "24.68\n"
     ]
    }
   ],
   "source": [
    "x = float(input(\"Введите какое-нибудь число: \"))\n",
    "print(x * 2)"
   ]
  },
  {
   "cell_type": "code",
   "execution_count": 56,
   "id": "ea4537a7",
   "metadata": {},
   "outputs": [],
   "source": [
    "a = 1 # первое число\n",
    "b = 1 # второе число\n",
    "i = 2 # номер того числа, которое находится в переменной b (сейчас это a_2)"
   ]
  },
  {
   "cell_type": "code",
   "execution_count": 68,
   "id": "2794abcf",
   "metadata": {},
   "outputs": [
    {
     "name": "stdout",
     "output_type": "stream",
     "text": [
      "14 377\n"
     ]
    }
   ],
   "source": [
    "c = a + b # нашли следующее число\n",
    "i = i + 1 # увеличили i на 1\n",
    "a = b   # значение a нам уже не нужно, а вот значение b ещё пригодится\n",
    "b = c   # запомнили вычисленное значение\n",
    "print(i, b)"
   ]
  },
  {
   "cell_type": "code",
   "execution_count": 104,
   "id": "1c20da8b",
   "metadata": {},
   "outputs": [],
   "source": [
    "a = 1 # первое число\n",
    "b = 1 # второе число\n",
    "i = 2 # номер того числа, которое находится в переменной b (сейчас это a_2)"
   ]
  },
  {
   "cell_type": "markdown",
   "id": "c515cc5c",
   "metadata": {},
   "source": [
    "### контрольный ответ: умножение на 2 или степени двойки по числу степени если счетчик начать с нуля "
   ]
  },
  {
   "cell_type": "code",
   "execution_count": 112,
   "id": "6ce3421c",
   "metadata": {},
   "outputs": [
    {
     "name": "stdout",
     "output_type": "stream",
     "text": [
      "10 256\n",
      "2 ^ 8 = 256\n"
     ]
    }
   ],
   "source": [
    "c = a + b\n",
    "i = i + 1\n",
    "b = c\n",
    "a = b\n",
    "print(i, b)\n",
    "print('2 ^', i - 2, '=', b)"
   ]
  },
  {
   "cell_type": "code",
   "execution_count": null,
   "id": "991c2c76",
   "metadata": {},
   "outputs": [],
   "source": []
  }
 ],
 "metadata": {
  "kernelspec": {
   "display_name": "Python 3 (ipykernel)",
   "language": "python",
   "name": "python3"
  },
  "language_info": {
   "codemirror_mode": {
    "name": "ipython",
    "version": 3
   },
   "file_extension": ".py",
   "mimetype": "text/x-python",
   "name": "python",
   "nbconvert_exporter": "python",
   "pygments_lexer": "ipython3",
   "version": "3.9.12"
  }
 },
 "nbformat": 4,
 "nbformat_minor": 5
}
