{
 "cells": [
  {
   "cell_type": "code",
   "execution_count": 11,
   "id": "7211217b",
   "metadata": {
    "pycharm": {
     "name": "#%%\n"
    }
   },
   "outputs": [
    {
     "name": "stdout",
     "output_type": "stream",
     "text": [
      "{0: [1, 2, 3], 1: [4, 5, 6]}\n"
     ]
    }
   ],
   "source": [
    "gender_dict = {\n",
    "    0: 'муж',\n",
    "    1: 'жен',\n",
    "}\n",
    "gender_dict2 = {\n",
    "    0: [1, 2, 3],\n",
    "    1: [4, 5, 6],\n",
    "}\n",
    "print(gender_dict2)"
   ]
  },
  {
   "cell_type": "code",
   "execution_count": null,
   "id": "61ac787d",
   "metadata": {
    "pycharm": {
     "is_executing": true,
     "name": "#%%\n"
    }
   },
   "outputs": [],
   "source": [
    "a = [1, 3, 5, 7]\n",
    "b = a[:]\n",
    "print(a)\n",
    "print(b)"
   ]
  },
  {
   "cell_type": "markdown",
   "id": "8d26bbf4",
   "metadata": {
    "pycharm": {
     "name": "#%% md\n"
    }
   },
   "source": [
    "### Slices:\n",
    "<code>   a[start:stop]  # items start through stop-1\n",
    "    a[start:]      # items start through the rest of the array\n",
    "    a[:stop]       # items from the beginning through stop-1\n",
    "    a[:]           # a copy of the whole array\n",
    "</code>"
   ]
  },
  {
   "cell_type": "code",
   "execution_count": 22,
   "id": "742720c2",
   "metadata": {
    "pycharm": {
     "name": "#%%\n"
    }
   },
   "outputs": [
    {
     "name": "stdout",
     "output_type": "stream",
     "text": [
      "[3, 5]\n"
     ]
    }
   ],
   "source": [
    "a = [1, 3, 5, 7]\n",
    "print(a[1:3])"
   ]
  },
  {
   "cell_type": "code",
   "execution_count": 1,
   "id": "cd6c7036",
   "metadata": {
    "pycharm": {
     "name": "#%%\n"
    }
   },
   "outputs": [
    {
     "name": "stdout",
     "output_type": "stream",
     "text": [
      "[1, 4, 6, 8]\n",
      "[1, 4, 6, 8]\n",
      "140227993094784\n",
      "140227993094784\n",
      "True\n"
     ]
    }
   ],
   "source": [
    "a = [4, 8, 6, 1]\n",
    "b = a\n",
    "a.sort()\n",
    "print(a)\n",
    "print(b)\n",
    "print(id(a))\n",
    "print(id(b))\n",
    "print(a is b)"
   ]
  },
  {
   "cell_type": "code",
   "execution_count": 28,
   "id": "e93ff66d",
   "metadata": {
    "pycharm": {
     "name": "#%%\n"
    },
    "scrolled": true
   },
   "outputs": [
    {
     "name": "stdout",
     "output_type": "stream",
     "text": [
      "[1, 4, 6, 8]\n",
      "[4, 8, 6, 1]\n",
      "140439913582656\n",
      "140439913582208\n"
     ]
    }
   ],
   "source": [
    "a = [4, 8, 6, 1]\n",
    "b = a[:]\n",
    "a.sort()\n",
    "print(a)\n",
    "print(b)\n",
    "print(id(a))\n",
    "print(id(b))"
   ]
  },
  {
   "cell_type": "markdown",
   "id": "33236763",
   "metadata": {
    "pycharm": {
     "name": "#%% md\n"
    }
   },
   "source": [
    "### Задание 1\n",
    "Дело в то, что в первом случае а и б указывают на один и тот же объект а во втором происходит клонирование"
   ]
  },
  {
   "cell_type": "code",
   "execution_count": 30,
   "id": "ab927dfe",
   "metadata": {
    "pycharm": {
     "name": "#%%\n"
    },
    "scrolled": true
   },
   "outputs": [
    {
     "name": "stdout",
     "output_type": "stream",
     "text": [
      "72\n",
      "136\n"
     ]
    }
   ],
   "source": [
    "a = (1, 2, 3, 4, 5, 6)\n",
    "b = [1, 2, 3, 4, 5, 6]\n",
    "print(a.__sizeof__())\n",
    "print(b.__sizeof__())"
   ]
  },
  {
   "cell_type": "markdown",
   "id": "3971f5f2",
   "metadata": {
    "pycharm": {
     "name": "#%% md\n"
    }
   },
   "source": [
    "### Задание 2, 4\n",
    "\n",
    "Создайте и заполните список из ста числовых элементов, воспользовавшись функцией random. Выведите на экран элементы списка\n",
    "\n",
    "1) Найдите сумму и произведение элементов списка. Результаты выведите на экран.\n",
    "\n",
    "2) Найдите наибольший элемент списка и выведите его на экран.\n",
    "\n",
    "3) Определите, есть ли в списке повторяющиеся элементы, если да, то выведите на экран все повторяющиеся значения с указанием количества повторений.\n",
    "\n",
    "4) Поменяйте местами самый большой и самый маленький элементы исходного списка. Выведите на экран элементы нового списка."
   ]
  },
  {
   "cell_type": "code",
   "execution_count": 156,
   "id": "86db6061",
   "metadata": {
    "pycharm": {
     "name": "#%%\n"
    }
   },
   "outputs": [],
   "source": [
    "def die(error_message = ''):\n",
    "    raise Exception(error_message)"
   ]
  },
  {
   "cell_type": "code",
   "execution_count": 189,
   "id": "d118398b",
   "metadata": {
    "pycharm": {
     "name": "#%%\n"
    },
    "scrolled": false
   },
   "outputs": [
    {
     "name": "stdout",
     "output_type": "stream",
     "text": [
      "\r\n",
      " rand array:  [2, 10, 6, 6, 8, 2, 5, 5, 4, 6]\n",
      "\r\n",
      " sum:  54\n",
      "\r\n",
      " max int:  10\n",
      "\r\n",
      " Duplicates2:  {2: 2, 5: 2, 6: 3}\n",
      "\r\n",
      " Swapped max and min:  [10, 2, 6, 6, 8, 2, 5, 5, 4, 6]\n",
      "\r\n",
      "\r\n",
      " --- Save and read from file:\n",
      "\r\n",
      " {\"original array\": [2, 10, 6, 6, 8, 2, 5, 5, 4, 6], \"array sum\": 54, \"max value\": 2, \"duplicates (value: repeat count)\": {\"2\": 2, \"5\": 2, \"6\": 3}, \"swapped max and min\": [10, 2, 6, 6, 8, 2, 5, 5, 4, 6]}\n"
     ]
    }
   ],
   "source": [
    "import random\n",
    "rand100 = [random.randint(1, 10) for _ in range(10)]\n",
    "orig100 = rand100[:]\n",
    "print(\"\\r\\n rand array: \", rand100)\n",
    "\n",
    "# 1)\n",
    "array_sum = sum(rand100)\n",
    "print(\"\\r\\n sum: \", array_sum)\n",
    "\n",
    "# 2)\n",
    "max_int = max(rand100)\n",
    "min_int = min(rand100)\n",
    "print(\"\\r\\n max int: \", max_int)\n",
    "\n",
    "# 3)\n",
    "# # bad solution\n",
    "# duplicates = {}\n",
    "# for i in range(0, len(rand100) - 2):\n",
    "#     if rand100[i] in duplicates:\n",
    "#         continue\n",
    "#     for j in range(i + 1, len(rand100)):\n",
    "#         j_value = rand100[j]\n",
    "#         if(rand100[i] == j_value):\n",
    "#             if j_value not in duplicates:\n",
    "#                 duplicates[j_value] = 1\n",
    "#             else:\n",
    "#                 duplicates[j_value] += 1\n",
    "# print(\"\\r\\n Duplicates: \", duplicates)\n",
    "\n",
    "# second solvation\n",
    "duplicates = {}\n",
    "# rand100 = [9, 6, 1, 6, 1, 9, 7, 7, 9, 9]\n",
    "sortedRand100 = rand100[:]\n",
    "sortedRand100.sort()\n",
    "for i in range(1, len(sortedRand100)):\n",
    "    i_value = sortedRand100[i]\n",
    "    if (i_value == sortedRand100[i - 1]):\n",
    "        if i_value not in duplicates:\n",
    "            duplicates[i_value] = 2\n",
    "        else:\n",
    "            duplicates[i_value] += 1\n",
    "print(\"\\r\\n Duplicates2: \", duplicates)\n",
    "\n",
    "# 4)\n",
    "rand100[rand100.index(max_int)], rand100[rand100.index(min_int)] = min_int, max_int\n",
    "max_int, min_int = min_int, max_int\n",
    "print(\"\\r\\n Swapped max and min: \", rand100)\n",
    "\n",
    "\n",
    "print(\"\\r\\n\\r\\n --- Save and read from file:\")\n",
    "import json\n",
    "with open('workfile.json', 'w') as outfile:\n",
    "    json.dump({\n",
    "        'original array': orig100,\n",
    "        'array sum': array_sum,\n",
    "        'max value': max_int,\n",
    "        'duplicates (value: repeat count)': duplicates,\n",
    "        'swapped max and min': rand100,\n",
    "    }, outfile)\n",
    "with open('workfile.json', 'r') as infile:\n",
    "    parsed = json.load(infile)\n",
    "    print(\"\\r\\n\", json.dumps(parsed))"
   ]
  },
  {
   "cell_type": "code",
   "execution_count": 190,
   "id": "01951462",
   "metadata": {
    "pycharm": {
     "name": "#%%\n"
    }
   },
   "outputs": [
    {
     "name": "stdout",
     "output_type": "stream",
     "text": [
      "\n",
      " rand array:\n",
      "[10, 2, 6, 6, 8, 2, 5, 5, 4, 6]\n",
      "\n",
      " sum: \n",
      "54\n",
      "\n",
      " Duplicates:\n",
      "{2: 2, 5: 2, 6: 3}\n",
      "\n",
      " Swapped max and min: \n",
      "[10, 2, 6, 6, 8, 2, 5, 5, 4, 6]\n",
      "\n",
      "\n"
     ]
    }
   ],
   "source": [
    "# del print\n",
    "from io import StringIO\n",
    "out = StringIO('')\n",
    "outfile = open('workfile2.json', 'w')\n",
    "printToFileFunc = lambda x:print(x, file = outfile)\n",
    "printToFileFunc(\"\\r\\n rand array:\")\n",
    "printToFileFunc(rand100)\n",
    "printToFileFunc(\"\\r\\n sum: \")\n",
    "printToFileFunc(array_sum)\n",
    "printToFileFunc(\"\\r\\n Duplicates:\")\n",
    "printToFileFunc(duplicates)\n",
    "printToFileFunc(\"\\r\\n Swapped max and min: \")\n",
    "printToFileFunc( rand100)\n",
    "printToFileFunc(out.getvalue())\n",
    "outfile.close()\n",
    "\n",
    "fileContent = open('workfile2.json', 'r').read()\n",
    "print(fileContent)"
   ]
  },
  {
   "cell_type": "markdown",
   "id": "7735fa49",
   "metadata": {
    "pycharm": {
     "name": "#%% md\n"
    }
   },
   "source": [
    "### Задание 3\n",
    "\n",
    "В сводной таблице собраны данные об объемах продаж за последние три года:\n",
    "\n",
    "Год | 1 |2 |3 |4 |5 |6 |7 |8 |9 |10 |11 |12 \n",
    ":--- | :--- |:--- |:--- |:--- |:--- |:--- |:--- |:--- |:--- |:--- |:--- |:---\n",
    "2016|22000 |190000 |245000 |151000 |98000 |354000 |126000 |124000 |121000 |148237 |252300 |324774\n",
    "2017| 88000 |168446 |137590 |81000 |102000 |321000 |345120 |153010 |320172 |231423 |245100|256484\n",
    "2018| 465000 |285333 |134000 |353000 |136000 |234126 |345600 |352023 |153230 |172000 |412986 |354128\n",
    "\n",
    "1) Выведите на экран месяцы (с указанием года), в которых наблюдались максимальная и минимальная прибыль за весь период\n",
    "\n",
    "2) Выведите периоды по годам, в которых наблюдался стабильный рост продаж \n"
   ]
  },
  {
   "cell_type": "code",
   "execution_count": 33,
   "id": "381d26d5",
   "metadata": {
    "pycharm": {
     "name": "#%%\n"
    }
   },
   "outputs": [
    {
     "name": "stdout",
     "output_type": "stream",
     "text": [
      "216\n"
     ]
    }
   ],
   "source": [
    "profits = {\n",
    "    2016: [22000, 190000, 245000, 151000, 98000, 354000, 126000, 124000, 121000, 148237, 252300, 324774],\n",
    "    2017: [88000, 168446, 137590, 81000, 102000, 321000, 345120, 153010, 320172, 231423, 245100, 256484],\n",
    "    2018: [465000, 285333, 134000, 353000, 136000, 234126, 345600, 352023, 153230, 172000, 412986, 354128],\n",
    "}\n",
    "print(profits.__sizeof__())"
   ]
  },
  {
   "cell_type": "code",
   "execution_count": 159,
   "id": "d52414f8",
   "metadata": {
    "pycharm": {
     "name": "#%%\n"
    }
   },
   "outputs": [
    {
     "name": "stdout",
     "output_type": "stream",
     "text": [
      "Lowest profit 22000 was in January of 2016\n",
      "Highest profit 465000 was in January of 2018\n"
     ]
    }
   ],
   "source": [
    "import calendar\n",
    "\n",
    "[maxProfitMonth, minProfitMonth] = [None, None]\n",
    "[maxProfit, minProfit] = [None, None]\n",
    "\n",
    "month = 0\n",
    "for year, profitList in profits.items():\n",
    "    for profit in profitList:\n",
    "        month += 1\n",
    "        if minProfit == None or profit < minProfit:\n",
    "            [minProfit, minProfitMonth] = [profit, month]\n",
    "        \n",
    "        if maxProfit == None or profit > maxProfit:\n",
    "            [maxProfit, maxProfitMonth] = [profit, month]\n",
    "            \n",
    "print('Lowest profit', minProfit, 'was in', calendar.month_name[minProfitMonth % 12], 'of', list(profits)[minProfitMonth // 12])\n",
    "print('Highest profit', maxProfit, 'was in', calendar.month_name[maxProfitMonth % 12], 'of', list(profits)[maxProfitMonth // 12])"
   ]
  },
  {
   "cell_type": "code",
   "execution_count": 244,
   "id": "938a5cf0",
   "metadata": {
    "pycharm": {
     "name": "#%%\n"
    }
   },
   "outputs": [
    {
     "name": "stdout",
     "output_type": "stream",
     "text": [
      "[2018, 1, 465000]\n",
      "[2016, 1, 22000]\n"
     ]
    }
   ],
   "source": [
    "maxProfit = max([max(profits[i]) for i in profits])\n",
    "minProfit = min([min(profits[i]) for i in profits])\n",
    "for year, profitList in profits.items():\n",
    "    try:\n",
    "        maxYear, maxMonth = year, profitList.index(maxProfit) + 1\n",
    "    except ValueError as e:\n",
    "        pass\n",
    "    try:\n",
    "        minYear, minMonth = year, profitList.index(minProfit) + 1\n",
    "    except ValueError as e:\n",
    "        pass\n",
    "print([maxYear, maxMonth, maxProfit])\n",
    "print([minYear, minMonth, minProfit])"
   ]
  },
  {
   "cell_type": "code",
   "execution_count": 227,
   "id": "3a1de7f6",
   "metadata": {
    "pycharm": {
     "name": "#%%\n"
    }
   },
   "outputs": [
    {
     "name": "stdout",
     "output_type": "stream",
     "text": [
      "2016: from January to March, from May to June, from September to December;\n",
      "2017: from January to February, from April to July, from August to September, from October to December;\n",
      "2018: from March to April, from May to August, from September to November;\n"
     ]
    }
   ],
   "source": [
    "import calendar\n",
    "\n",
    "growingPeriods = dict()\n",
    "\n",
    "for year, profitList in profits.items():\n",
    "    [prevProfit, month] = [0, 0]\n",
    "    [growingStart, growingEnd] = [month + 1, month + 1]\n",
    "    growingPeriods[year] = []\n",
    "    \n",
    "    for profit in profitList:\n",
    "        month += 1\n",
    "        if profit <= prevProfit:\n",
    "            if (growingStart < growingEnd):\n",
    "                growingPeriods[year].append([growingStart, growingEnd])\n",
    "            growingStart = month\n",
    "\n",
    "        growingEnd = month\n",
    "        prevProfit = profit\n",
    "        \n",
    "    if (growingStart < growingEnd):\n",
    "        growingPeriods[year].append([growingStart, growingEnd])\n",
    "\n",
    "for year, periods in growingPeriods.items():\n",
    "    tmpString = str(year) + ': '\n",
    "    for period in periods:\n",
    "        strPeriod = 'from ' + calendar.month_name[period[0]] + ' to ' + calendar.month_name[period[1]]\n",
    "        tmpString += strPeriod + ', '\n",
    "    tmpString = tmpString.rstrip(', ') + ';'\n",
    "    print(tmpString)"
   ]
  },
  {
   "cell_type": "code",
   "execution_count": 41,
   "id": "49db3403",
   "metadata": {
    "pycharm": {
     "name": "#%%\n"
    }
   },
   "outputs": [
    {
     "name": "stdout",
     "output_type": "stream",
     "text": [
      "216\n",
      "216\n",
      "48\n"
     ]
    }
   ],
   "source": [
    "profit_tuples = {\n",
    "    2016: (22000, 190000, 245000, 151000, 98000, 354000, 126000, 124000, 121000, 148237, 252300, 324774),\n",
    "    2017: (88000, 168446, 137590, 81000, 102000, 321000, 345120, 153010, 320172, 231423, 245100, 256484),\n",
    "    2018: (465000, 285333, 134000, 353000, 136000, 234126, 345600, 352023, 153230, 172000, 412986, 354128),\n",
    "}\n",
    "profit_tuples_empty_values = {\n",
    "    2016: (),\n",
    "    2017: (),\n",
    "    2018: (),\n",
    "}\n",
    "profit_empty_dict = {}\n",
    "print(profit_tuples.__sizeof__())\n",
    "print(profit_tuples_empty_values.__sizeof__())\n",
    "print(profit_empty_dict.__sizeof__())"
   ]
  },
  {
   "cell_type": "code",
   "execution_count": null,
   "id": "b6f93aa1",
   "metadata": {
    "pycharm": {
     "name": "#%%\n"
    }
   },
   "outputs": [],
   "source": []
  }
 ],
 "metadata": {
  "kernelspec": {
   "display_name": "Python 3 (ipykernel)",
   "language": "python",
   "name": "python3"
  },
  "language_info": {
   "codemirror_mode": {
    "name": "ipython",
    "version": 3
   },
   "file_extension": ".py",
   "mimetype": "text/x-python",
   "name": "python",
   "nbconvert_exporter": "python",
   "pygments_lexer": "ipython3",
   "version": "3.9.12"
  }
 },
 "nbformat": 4,
 "nbformat_minor": 5
}
